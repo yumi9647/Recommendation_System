{
  "nbformat": 4,
  "nbformat_minor": 0,
  "metadata": {
    "kernelspec": {
      "display_name": "Python 3",
      "language": "python",
      "name": "python3"
    },
    "language_info": {
      "codemirror_mode": {
        "name": "ipython",
        "version": 3
      },
      "file_extension": ".py",
      "mimetype": "text/x-python",
      "name": "python",
      "nbconvert_exporter": "python",
      "pygments_lexer": "ipython3",
      "version": "3.7.1"
    },
    "colab": {
      "name": "MovieLens_Recommendation.ipynb",
      "version": "0.3.2",
      "provenance": [],
      "collapsed_sections": [],
      "toc_visible": true
    }
  },
  "cells": [
    {
      "cell_type": "markdown",
      "metadata": {
        "id": "O0sVWTqrp8n_",
        "colab_type": "text"
      },
      "source": [
        "# Movie Ratings Recommendation System\n",
        "\n",
        "Let's compare some of the recommendation systems for the movie ratings dataset provided by MovieLens."
      ]
    },
    {
      "cell_type": "markdown",
      "metadata": {
        "id": "2laNs8_Yz_Qa",
        "colab_type": "text"
      },
      "source": [
        "# Import libraries and environment settings"
      ]
    },
    {
      "cell_type": "markdown",
      "metadata": {
        "id": "OaQbFdcow5ML",
        "colab_type": "text"
      },
      "source": [
        "### Git clone the microsoft recommender repository"
      ]
    },
    {
      "cell_type": "code",
      "metadata": {
        "id": "ZWiBGnebwz-C",
        "colab_type": "code",
        "colab": {
          "base_uri": "https://localhost:8080/",
          "height": 35
        },
        "outputId": "6cfd8242-a269-4db1-9859-30c6a7ee9710"
      },
      "source": [
        "!pip install -q xlrd\n",
        "!git clone https://github.com/microsoft/recommenders.git"
      ],
      "execution_count": 114,
      "outputs": [
        {
          "output_type": "stream",
          "text": [
            "fatal: destination path 'recommenders' already exists and is not an empty directory.\n"
          ],
          "name": "stdout"
        }
      ]
    },
    {
      "cell_type": "code",
      "metadata": {
        "id": "51k8Ialm8VDf",
        "colab_type": "code",
        "colab": {
          "base_uri": "https://localhost:8080/",
          "height": 141
        },
        "outputId": "c9ca65e6-aa29-4058-e144-6166871784e3"
      },
      "source": [
        "!pip install surprise"
      ],
      "execution_count": 115,
      "outputs": [
        {
          "output_type": "stream",
          "text": [
            "Requirement already satisfied: surprise in /usr/local/lib/python3.6/dist-packages (0.1)\n",
            "Requirement already satisfied: scikit-surprise in /usr/local/lib/python3.6/dist-packages (from surprise) (1.0.6)\n",
            "Requirement already satisfied: joblib>=0.11 in /usr/local/lib/python3.6/dist-packages (from scikit-surprise->surprise) (0.13.2)\n",
            "Requirement already satisfied: six>=1.10.0 in /usr/local/lib/python3.6/dist-packages (from scikit-surprise->surprise) (1.12.0)\n",
            "Requirement already satisfied: scipy>=1.0.0 in /usr/local/lib/python3.6/dist-packages (from scikit-surprise->surprise) (1.3.1)\n",
            "Requirement already satisfied: numpy>=1.11.2 in /usr/local/lib/python3.6/dist-packages (from scikit-surprise->surprise) (1.16.5)\n"
          ],
          "name": "stdout"
        }
      ]
    },
    {
      "cell_type": "code",
      "metadata": {
        "id": "3EUuebi28ihY",
        "colab_type": "code",
        "colab": {
          "base_uri": "https://localhost:8080/",
          "height": 642
        },
        "outputId": "0c64608c-3688-45b7-c13e-8c4e5dae0f02"
      },
      "source": [
        "!pip install papermill"
      ],
      "execution_count": 116,
      "outputs": [
        {
          "output_type": "stream",
          "text": [
            "Requirement already satisfied: papermill in /usr/local/lib/python3.6/dist-packages (1.1.0)\n",
            "Requirement already satisfied: six in /usr/local/lib/python3.6/dist-packages (from papermill) (1.12.0)\n",
            "Requirement already satisfied: tqdm>=4.32.2 in /usr/local/lib/python3.6/dist-packages (from papermill) (4.35.0)\n",
            "Requirement already satisfied: jupyter-client in /usr/local/lib/python3.6/dist-packages (from papermill) (5.3.1)\n",
            "Requirement already satisfied: future in /usr/local/lib/python3.6/dist-packages (from papermill) (0.16.0)\n",
            "Requirement already satisfied: entrypoints in /usr/local/lib/python3.6/dist-packages (from papermill) (0.3)\n",
            "Requirement already satisfied: nbformat in /usr/local/lib/python3.6/dist-packages (from papermill) (4.4.0)\n",
            "Requirement already satisfied: tenacity in /usr/local/lib/python3.6/dist-packages (from papermill) (5.1.1)\n",
            "Requirement already satisfied: ansiwrap in /usr/local/lib/python3.6/dist-packages (from papermill) (0.8.4)\n",
            "Requirement already satisfied: click in /usr/local/lib/python3.6/dist-packages (from papermill) (7.0)\n",
            "Requirement already satisfied: pyyaml in /usr/local/lib/python3.6/dist-packages (from papermill) (3.13)\n",
            "Requirement already satisfied: nbconvert>=5.5 in /usr/local/lib/python3.6/dist-packages (from papermill) (5.6.0)\n",
            "Requirement already satisfied: requests in /usr/local/lib/python3.6/dist-packages (from papermill) (2.21.0)\n",
            "Requirement already satisfied: traitlets in /usr/local/lib/python3.6/dist-packages (from jupyter-client->papermill) (4.3.2)\n",
            "Requirement already satisfied: pyzmq>=13 in /usr/local/lib/python3.6/dist-packages (from jupyter-client->papermill) (17.0.0)\n",
            "Requirement already satisfied: python-dateutil>=2.1 in /usr/local/lib/python3.6/dist-packages (from jupyter-client->papermill) (2.5.3)\n",
            "Requirement already satisfied: jupyter-core in /usr/local/lib/python3.6/dist-packages (from jupyter-client->papermill) (4.5.0)\n",
            "Requirement already satisfied: tornado>=4.1 in /usr/local/lib/python3.6/dist-packages (from jupyter-client->papermill) (4.5.3)\n",
            "Requirement already satisfied: ipython-genutils in /usr/local/lib/python3.6/dist-packages (from nbformat->papermill) (0.2.0)\n",
            "Requirement already satisfied: jsonschema!=2.5.0,>=2.4 in /usr/local/lib/python3.6/dist-packages (from nbformat->papermill) (2.6.0)\n",
            "Requirement already satisfied: textwrap3>=0.9.2 in /usr/local/lib/python3.6/dist-packages (from ansiwrap->papermill) (0.9.2)\n",
            "Requirement already satisfied: bleach in /usr/local/lib/python3.6/dist-packages (from nbconvert>=5.5->papermill) (3.1.0)\n",
            "Requirement already satisfied: pygments in /usr/local/lib/python3.6/dist-packages (from nbconvert>=5.5->papermill) (2.1.3)\n",
            "Requirement already satisfied: jinja2>=2.4 in /usr/local/lib/python3.6/dist-packages (from nbconvert>=5.5->papermill) (2.10.1)\n",
            "Requirement already satisfied: mistune<2,>=0.8.1 in /usr/local/lib/python3.6/dist-packages (from nbconvert>=5.5->papermill) (0.8.4)\n",
            "Requirement already satisfied: testpath in /usr/local/lib/python3.6/dist-packages (from nbconvert>=5.5->papermill) (0.4.2)\n",
            "Requirement already satisfied: defusedxml in /usr/local/lib/python3.6/dist-packages (from nbconvert>=5.5->papermill) (0.6.0)\n",
            "Requirement already satisfied: pandocfilters>=1.4.1 in /usr/local/lib/python3.6/dist-packages (from nbconvert>=5.5->papermill) (1.4.2)\n",
            "Requirement already satisfied: idna<2.9,>=2.5 in /usr/local/lib/python3.6/dist-packages (from requests->papermill) (2.8)\n",
            "Requirement already satisfied: certifi>=2017.4.17 in /usr/local/lib/python3.6/dist-packages (from requests->papermill) (2019.6.16)\n",
            "Requirement already satisfied: urllib3<1.25,>=1.21.1 in /usr/local/lib/python3.6/dist-packages (from requests->papermill) (1.24.3)\n",
            "Requirement already satisfied: chardet<3.1.0,>=3.0.2 in /usr/local/lib/python3.6/dist-packages (from requests->papermill) (3.0.4)\n",
            "Requirement already satisfied: decorator in /usr/local/lib/python3.6/dist-packages (from traitlets->jupyter-client->papermill) (4.4.0)\n",
            "Requirement already satisfied: webencodings in /usr/local/lib/python3.6/dist-packages (from bleach->nbconvert>=5.5->papermill) (0.5.1)\n",
            "Requirement already satisfied: MarkupSafe>=0.23 in /usr/local/lib/python3.6/dist-packages (from jinja2>=2.4->nbconvert>=5.5->papermill) (1.1.1)\n"
          ],
          "name": "stdout"
        }
      ]
    },
    {
      "cell_type": "code",
      "metadata": {
        "id": "0LQ4jDyup8oA",
        "colab_type": "code",
        "colab": {}
      },
      "source": [
        "import pandas as pd\n",
        "import sys\n",
        "import os\n",
        "sys.path.append(os.path.join('/content', 'recommenders')) # Running on Colab enviroment\n",
        "import surprise\n",
        "import papermill as pm\n",
        "from sklearn.metrics import mean_squared_error\n",
        "import tensorflow as tf\n",
        "import keras\n",
        "import numpy as np\n",
        "\n",
        "#microsoft recommender\n",
        "from reco_utils.common.spark_utils import start_or_get_spark\n",
        "from reco_utils.dataset.download_utils import maybe_download\n",
        "from reco_utils.dataset.python_splitters import (\n",
        "    python_random_split, \n",
        "    python_chrono_split, \n",
        "    python_stratified_split\n",
        ")\n",
        "from reco_utils.dataset.spark_splitters import (\n",
        "    spark_random_split, \n",
        "    spark_chrono_split, \n",
        "    spark_stratified_split,\n",
        "    spark_timestamp_split\n",
        ")\n",
        "from reco_utils.recommender.surprise.surprise_utils import compute_rating_predictions, compute_ranking_predictions\n",
        "from reco_utils.evaluation.python_evaluation import (rmse, mae, rsquared, exp_var, map_at_k, ndcg_at_k, precision_at_k, \n",
        "                                                     recall_at_k, get_top_k_items)\n",
        "from reco_utils.recommender.ncf.ncf_singlenode import NCF\n",
        "from reco_utils.recommender.ncf.dataset import Dataset as NCFDataset\n"
      ],
      "execution_count": 0,
      "outputs": []
    },
    {
      "cell_type": "markdown",
      "metadata": {
        "id": "HNCfRQiAp8oD",
        "colab_type": "text"
      },
      "source": [
        "# Data Import"
      ]
    },
    {
      "cell_type": "code",
      "metadata": {
        "id": "HmJ-NeTwvzpU",
        "colab_type": "code",
        "colab": {}
      },
      "source": [
        "DATA_URL = \"http://files.grouplens.org/datasets/movielens/ml-100k/u.data\"\n",
        "DATA_PATH = \"ml-100k.data\"\n",
        "\n",
        "COL_USER = \"userID\"\n",
        "COL_ITEM = \"itemID\"\n",
        "COL_RATING = \"rating\"\n",
        "COL_PREDICTION = \"rating\"\n",
        "COL_TIMESTAMP = \"Timestamp\""
      ],
      "execution_count": 0,
      "outputs": []
    },
    {
      "cell_type": "code",
      "metadata": {
        "id": "ZAhZeFNrv67b",
        "colab_type": "code",
        "colab": {}
      },
      "source": [
        "filepath = maybe_download(DATA_URL, DATA_PATH)"
      ],
      "execution_count": 0,
      "outputs": []
    },
    {
      "cell_type": "code",
      "metadata": {
        "id": "a7YUCJgov-K9",
        "colab_type": "code",
        "colab": {}
      },
      "source": [
        "data = pd.read_csv(filepath, sep=\"\\t\", names=[COL_USER, COL_ITEM, COL_RATING, COL_TIMESTAMP])\n",
        "data = data.drop(columns = ['Timestamp'])"
      ],
      "execution_count": 0,
      "outputs": []
    },
    {
      "cell_type": "code",
      "metadata": {
        "id": "r0ZNyoE6p8oK",
        "colab_type": "code",
        "colab": {
          "base_uri": "https://localhost:8080/",
          "height": 198
        },
        "outputId": "005e11e6-1ce2-4047-9faf-2529c50c9a35"
      },
      "source": [
        "data.head()"
      ],
      "execution_count": 121,
      "outputs": [
        {
          "output_type": "execute_result",
          "data": {
            "text/html": [
              "<div>\n",
              "<style scoped>\n",
              "    .dataframe tbody tr th:only-of-type {\n",
              "        vertical-align: middle;\n",
              "    }\n",
              "\n",
              "    .dataframe tbody tr th {\n",
              "        vertical-align: top;\n",
              "    }\n",
              "\n",
              "    .dataframe thead th {\n",
              "        text-align: right;\n",
              "    }\n",
              "</style>\n",
              "<table border=\"1\" class=\"dataframe\">\n",
              "  <thead>\n",
              "    <tr style=\"text-align: right;\">\n",
              "      <th></th>\n",
              "      <th>userID</th>\n",
              "      <th>itemID</th>\n",
              "      <th>rating</th>\n",
              "    </tr>\n",
              "  </thead>\n",
              "  <tbody>\n",
              "    <tr>\n",
              "      <th>0</th>\n",
              "      <td>196</td>\n",
              "      <td>242</td>\n",
              "      <td>3</td>\n",
              "    </tr>\n",
              "    <tr>\n",
              "      <th>1</th>\n",
              "      <td>186</td>\n",
              "      <td>302</td>\n",
              "      <td>3</td>\n",
              "    </tr>\n",
              "    <tr>\n",
              "      <th>2</th>\n",
              "      <td>22</td>\n",
              "      <td>377</td>\n",
              "      <td>1</td>\n",
              "    </tr>\n",
              "    <tr>\n",
              "      <th>3</th>\n",
              "      <td>244</td>\n",
              "      <td>51</td>\n",
              "      <td>2</td>\n",
              "    </tr>\n",
              "    <tr>\n",
              "      <th>4</th>\n",
              "      <td>166</td>\n",
              "      <td>346</td>\n",
              "      <td>1</td>\n",
              "    </tr>\n",
              "  </tbody>\n",
              "</table>\n",
              "</div>"
            ],
            "text/plain": [
              "   userID  itemID  rating\n",
              "0     196     242       3\n",
              "1     186     302       3\n",
              "2      22     377       1\n",
              "3     244      51       2\n",
              "4     166     346       1"
            ]
          },
          "metadata": {
            "tags": []
          },
          "execution_count": 121
        }
      ]
    },
    {
      "cell_type": "code",
      "metadata": {
        "id": "5V538fVgp8oN",
        "colab_type": "code",
        "colab": {
          "base_uri": "https://localhost:8080/",
          "height": 288
        },
        "outputId": "b9120971-e931-470d-843e-ee5ea85ae2f7"
      },
      "source": [
        "data.describe()"
      ],
      "execution_count": 122,
      "outputs": [
        {
          "output_type": "execute_result",
          "data": {
            "text/html": [
              "<div>\n",
              "<style scoped>\n",
              "    .dataframe tbody tr th:only-of-type {\n",
              "        vertical-align: middle;\n",
              "    }\n",
              "\n",
              "    .dataframe tbody tr th {\n",
              "        vertical-align: top;\n",
              "    }\n",
              "\n",
              "    .dataframe thead th {\n",
              "        text-align: right;\n",
              "    }\n",
              "</style>\n",
              "<table border=\"1\" class=\"dataframe\">\n",
              "  <thead>\n",
              "    <tr style=\"text-align: right;\">\n",
              "      <th></th>\n",
              "      <th>userID</th>\n",
              "      <th>itemID</th>\n",
              "      <th>rating</th>\n",
              "    </tr>\n",
              "  </thead>\n",
              "  <tbody>\n",
              "    <tr>\n",
              "      <th>count</th>\n",
              "      <td>100000.00000</td>\n",
              "      <td>100000.000000</td>\n",
              "      <td>100000.000000</td>\n",
              "    </tr>\n",
              "    <tr>\n",
              "      <th>mean</th>\n",
              "      <td>462.48475</td>\n",
              "      <td>425.530130</td>\n",
              "      <td>3.529860</td>\n",
              "    </tr>\n",
              "    <tr>\n",
              "      <th>std</th>\n",
              "      <td>266.61442</td>\n",
              "      <td>330.798356</td>\n",
              "      <td>1.125674</td>\n",
              "    </tr>\n",
              "    <tr>\n",
              "      <th>min</th>\n",
              "      <td>1.00000</td>\n",
              "      <td>1.000000</td>\n",
              "      <td>1.000000</td>\n",
              "    </tr>\n",
              "    <tr>\n",
              "      <th>25%</th>\n",
              "      <td>254.00000</td>\n",
              "      <td>175.000000</td>\n",
              "      <td>3.000000</td>\n",
              "    </tr>\n",
              "    <tr>\n",
              "      <th>50%</th>\n",
              "      <td>447.00000</td>\n",
              "      <td>322.000000</td>\n",
              "      <td>4.000000</td>\n",
              "    </tr>\n",
              "    <tr>\n",
              "      <th>75%</th>\n",
              "      <td>682.00000</td>\n",
              "      <td>631.000000</td>\n",
              "      <td>4.000000</td>\n",
              "    </tr>\n",
              "    <tr>\n",
              "      <th>max</th>\n",
              "      <td>943.00000</td>\n",
              "      <td>1682.000000</td>\n",
              "      <td>5.000000</td>\n",
              "    </tr>\n",
              "  </tbody>\n",
              "</table>\n",
              "</div>"
            ],
            "text/plain": [
              "             userID         itemID         rating\n",
              "count  100000.00000  100000.000000  100000.000000\n",
              "mean      462.48475     425.530130       3.529860\n",
              "std       266.61442     330.798356       1.125674\n",
              "min         1.00000       1.000000       1.000000\n",
              "25%       254.00000     175.000000       3.000000\n",
              "50%       447.00000     322.000000       4.000000\n",
              "75%       682.00000     631.000000       4.000000\n",
              "max       943.00000    1682.000000       5.000000"
            ]
          },
          "metadata": {
            "tags": []
          },
          "execution_count": 122
        }
      ]
    },
    {
      "cell_type": "markdown",
      "metadata": {
        "id": "FskPwtEsp8oX",
        "colab_type": "text"
      },
      "source": [
        "# Data Split\n",
        "\n",
        "For the modelling, let's split the data into train, validation, and test set.  \n",
        "The splitting threshold that I used is 60 - 20 - 20."
      ]
    },
    {
      "cell_type": "markdown",
      "metadata": {
        "id": "A0IiIR0Lp8oX",
        "colab_type": "text"
      },
      "source": [
        "### Shuffle & Split the dataset"
      ]
    },
    {
      "cell_type": "code",
      "metadata": {
        "id": "xWMpWyezp8oY",
        "colab_type": "code",
        "colab": {}
      },
      "source": [
        "data_train, data_test = python_random_split(data, ratio=0.7)"
      ],
      "execution_count": 0,
      "outputs": []
    },
    {
      "cell_type": "code",
      "metadata": {
        "scrolled": true,
        "id": "gSECAgDpp8oc",
        "colab_type": "code",
        "colab": {
          "base_uri": "https://localhost:8080/",
          "height": 35
        },
        "outputId": "3f9ef2bc-daa2-4e95-e4f7-a1c86562bf64"
      },
      "source": [
        "data_train.shape, data_test.shape"
      ],
      "execution_count": 124,
      "outputs": [
        {
          "output_type": "execute_result",
          "data": {
            "text/plain": [
              "((70000, 3), (30000, 3))"
            ]
          },
          "metadata": {
            "tags": []
          },
          "execution_count": 124
        }
      ]
    },
    {
      "cell_type": "code",
      "metadata": {
        "id": "jL6ApL8m9lRJ",
        "colab_type": "code",
        "colab": {
          "base_uri": "https://localhost:8080/",
          "height": 198
        },
        "outputId": "59c89cfc-d397-4e14-8b02-83b9b3bd445f"
      },
      "source": [
        "data_train.head()"
      ],
      "execution_count": 125,
      "outputs": [
        {
          "output_type": "execute_result",
          "data": {
            "text/html": [
              "<div>\n",
              "<style scoped>\n",
              "    .dataframe tbody tr th:only-of-type {\n",
              "        vertical-align: middle;\n",
              "    }\n",
              "\n",
              "    .dataframe tbody tr th {\n",
              "        vertical-align: top;\n",
              "    }\n",
              "\n",
              "    .dataframe thead th {\n",
              "        text-align: right;\n",
              "    }\n",
              "</style>\n",
              "<table border=\"1\" class=\"dataframe\">\n",
              "  <thead>\n",
              "    <tr style=\"text-align: right;\">\n",
              "      <th></th>\n",
              "      <th>userID</th>\n",
              "      <th>itemID</th>\n",
              "      <th>rating</th>\n",
              "    </tr>\n",
              "  </thead>\n",
              "  <tbody>\n",
              "    <tr>\n",
              "      <th>76513</th>\n",
              "      <td>907</td>\n",
              "      <td>628</td>\n",
              "      <td>5</td>\n",
              "    </tr>\n",
              "    <tr>\n",
              "      <th>60406</th>\n",
              "      <td>622</td>\n",
              "      <td>206</td>\n",
              "      <td>1</td>\n",
              "    </tr>\n",
              "    <tr>\n",
              "      <th>27322</th>\n",
              "      <td>18</td>\n",
              "      <td>480</td>\n",
              "      <td>4</td>\n",
              "    </tr>\n",
              "    <tr>\n",
              "      <th>53699</th>\n",
              "      <td>484</td>\n",
              "      <td>699</td>\n",
              "      <td>4</td>\n",
              "    </tr>\n",
              "    <tr>\n",
              "      <th>65412</th>\n",
              "      <td>871</td>\n",
              "      <td>690</td>\n",
              "      <td>3</td>\n",
              "    </tr>\n",
              "  </tbody>\n",
              "</table>\n",
              "</div>"
            ],
            "text/plain": [
              "       userID  itemID  rating\n",
              "76513     907     628       5\n",
              "60406     622     206       1\n",
              "27322      18     480       4\n",
              "53699     484     699       4\n",
              "65412     871     690       3"
            ]
          },
          "metadata": {
            "tags": []
          },
          "execution_count": 125
        }
      ]
    },
    {
      "cell_type": "code",
      "metadata": {
        "id": "eeP19czPCsLJ",
        "colab_type": "code",
        "colab": {
          "base_uri": "https://localhost:8080/",
          "height": 198
        },
        "outputId": "f4571058-6ec9-48f2-e15e-7e10f505cadd"
      },
      "source": [
        "data_test.head()"
      ],
      "execution_count": 126,
      "outputs": [
        {
          "output_type": "execute_result",
          "data": {
            "text/html": [
              "<div>\n",
              "<style scoped>\n",
              "    .dataframe tbody tr th:only-of-type {\n",
              "        vertical-align: middle;\n",
              "    }\n",
              "\n",
              "    .dataframe tbody tr th {\n",
              "        vertical-align: top;\n",
              "    }\n",
              "\n",
              "    .dataframe thead th {\n",
              "        text-align: right;\n",
              "    }\n",
              "</style>\n",
              "<table border=\"1\" class=\"dataframe\">\n",
              "  <thead>\n",
              "    <tr style=\"text-align: right;\">\n",
              "      <th></th>\n",
              "      <th>userID</th>\n",
              "      <th>itemID</th>\n",
              "      <th>rating</th>\n",
              "    </tr>\n",
              "  </thead>\n",
              "  <tbody>\n",
              "    <tr>\n",
              "      <th>75721</th>\n",
              "      <td>877</td>\n",
              "      <td>381</td>\n",
              "      <td>4</td>\n",
              "    </tr>\n",
              "    <tr>\n",
              "      <th>80184</th>\n",
              "      <td>815</td>\n",
              "      <td>602</td>\n",
              "      <td>3</td>\n",
              "    </tr>\n",
              "    <tr>\n",
              "      <th>19864</th>\n",
              "      <td>94</td>\n",
              "      <td>431</td>\n",
              "      <td>4</td>\n",
              "    </tr>\n",
              "    <tr>\n",
              "      <th>76699</th>\n",
              "      <td>416</td>\n",
              "      <td>875</td>\n",
              "      <td>2</td>\n",
              "    </tr>\n",
              "    <tr>\n",
              "      <th>92991</th>\n",
              "      <td>500</td>\n",
              "      <td>182</td>\n",
              "      <td>2</td>\n",
              "    </tr>\n",
              "  </tbody>\n",
              "</table>\n",
              "</div>"
            ],
            "text/plain": [
              "       userID  itemID  rating\n",
              "75721     877     381       4\n",
              "80184     815     602       3\n",
              "19864      94     431       4\n",
              "76699     416     875       2\n",
              "92991     500     182       2"
            ]
          },
          "metadata": {
            "tags": []
          },
          "execution_count": 126
        }
      ]
    },
    {
      "cell_type": "markdown",
      "metadata": {
        "id": "shcFAHXzxpmY",
        "colab_type": "text"
      },
      "source": [
        "# Modelling\n",
        "\n",
        "##Model List\n",
        "\n",
        "###1. Baseline\n",
        "###2. SVD\n",
        "###3. Neural Collaborative Filtering\n",
        "\n",
        "## Evaluation Method \n",
        "\n",
        "###Mean Squared Error\n",
        "\n",
        "\n",
        "\n"
      ]
    },
    {
      "cell_type": "markdown",
      "metadata": {
        "id": "2_NaPMw5x2zl",
        "colab_type": "text"
      },
      "source": [
        "##1. Baseline\n",
        "\n",
        ": for the baseline model, I used mean rating for each of the user.\n"
      ]
    },
    {
      "cell_type": "code",
      "metadata": {
        "id": "ID05Gk6Np8oe",
        "colab_type": "code",
        "colab": {
          "base_uri": "https://localhost:8080/",
          "height": 198
        },
        "outputId": "e9397037-3b72-4d70-94e9-94c89f1cb483"
      },
      "source": [
        "users_ratings = data_train.groupby(['userID'])['rating'].mean()\n",
        "users_ratings = users_ratings.to_frame().reset_index()\n",
        "users_ratings.rename(columns = {'Rating': 'MeanRating'}, inplace = True)\n",
        "users_ratings.head()"
      ],
      "execution_count": 127,
      "outputs": [
        {
          "output_type": "execute_result",
          "data": {
            "text/html": [
              "<div>\n",
              "<style scoped>\n",
              "    .dataframe tbody tr th:only-of-type {\n",
              "        vertical-align: middle;\n",
              "    }\n",
              "\n",
              "    .dataframe tbody tr th {\n",
              "        vertical-align: top;\n",
              "    }\n",
              "\n",
              "    .dataframe thead th {\n",
              "        text-align: right;\n",
              "    }\n",
              "</style>\n",
              "<table border=\"1\" class=\"dataframe\">\n",
              "  <thead>\n",
              "    <tr style=\"text-align: right;\">\n",
              "      <th></th>\n",
              "      <th>userID</th>\n",
              "      <th>rating</th>\n",
              "    </tr>\n",
              "  </thead>\n",
              "  <tbody>\n",
              "    <tr>\n",
              "      <th>0</th>\n",
              "      <td>1</td>\n",
              "      <td>3.705263</td>\n",
              "    </tr>\n",
              "    <tr>\n",
              "      <th>1</th>\n",
              "      <td>2</td>\n",
              "      <td>3.897436</td>\n",
              "    </tr>\n",
              "    <tr>\n",
              "      <th>2</th>\n",
              "      <td>3</td>\n",
              "      <td>2.789474</td>\n",
              "    </tr>\n",
              "    <tr>\n",
              "      <th>3</th>\n",
              "      <td>4</td>\n",
              "      <td>4.500000</td>\n",
              "    </tr>\n",
              "    <tr>\n",
              "      <th>4</th>\n",
              "      <td>5</td>\n",
              "      <td>2.858333</td>\n",
              "    </tr>\n",
              "  </tbody>\n",
              "</table>\n",
              "</div>"
            ],
            "text/plain": [
              "   userID    rating\n",
              "0       1  3.705263\n",
              "1       2  3.897436\n",
              "2       3  2.789474\n",
              "3       4  4.500000\n",
              "4       5  2.858333"
            ]
          },
          "metadata": {
            "tags": []
          },
          "execution_count": 127
        }
      ]
    },
    {
      "cell_type": "code",
      "metadata": {
        "id": "BNzTOpWj0n9Y",
        "colab_type": "code",
        "colab": {
          "base_uri": "https://localhost:8080/",
          "height": 198
        },
        "outputId": "d71bd42e-3945-4a2b-9305-9894c9786cb2"
      },
      "source": [
        "baseline_data = pd.merge(data_test, users_ratings, on=['userID'], how='inner')\n",
        "baseline_data.head()"
      ],
      "execution_count": 128,
      "outputs": [
        {
          "output_type": "execute_result",
          "data": {
            "text/html": [
              "<div>\n",
              "<style scoped>\n",
              "    .dataframe tbody tr th:only-of-type {\n",
              "        vertical-align: middle;\n",
              "    }\n",
              "\n",
              "    .dataframe tbody tr th {\n",
              "        vertical-align: top;\n",
              "    }\n",
              "\n",
              "    .dataframe thead th {\n",
              "        text-align: right;\n",
              "    }\n",
              "</style>\n",
              "<table border=\"1\" class=\"dataframe\">\n",
              "  <thead>\n",
              "    <tr style=\"text-align: right;\">\n",
              "      <th></th>\n",
              "      <th>userID</th>\n",
              "      <th>itemID</th>\n",
              "      <th>rating_x</th>\n",
              "      <th>rating_y</th>\n",
              "    </tr>\n",
              "  </thead>\n",
              "  <tbody>\n",
              "    <tr>\n",
              "      <th>0</th>\n",
              "      <td>877</td>\n",
              "      <td>381</td>\n",
              "      <td>4</td>\n",
              "      <td>3.672727</td>\n",
              "    </tr>\n",
              "    <tr>\n",
              "      <th>1</th>\n",
              "      <td>877</td>\n",
              "      <td>451</td>\n",
              "      <td>4</td>\n",
              "      <td>3.672727</td>\n",
              "    </tr>\n",
              "    <tr>\n",
              "      <th>2</th>\n",
              "      <td>877</td>\n",
              "      <td>557</td>\n",
              "      <td>4</td>\n",
              "      <td>3.672727</td>\n",
              "    </tr>\n",
              "    <tr>\n",
              "      <th>3</th>\n",
              "      <td>877</td>\n",
              "      <td>692</td>\n",
              "      <td>4</td>\n",
              "      <td>3.672727</td>\n",
              "    </tr>\n",
              "    <tr>\n",
              "      <th>4</th>\n",
              "      <td>877</td>\n",
              "      <td>56</td>\n",
              "      <td>5</td>\n",
              "      <td>3.672727</td>\n",
              "    </tr>\n",
              "  </tbody>\n",
              "</table>\n",
              "</div>"
            ],
            "text/plain": [
              "   userID  itemID  rating_x  rating_y\n",
              "0     877     381         4  3.672727\n",
              "1     877     451         4  3.672727\n",
              "2     877     557         4  3.672727\n",
              "3     877     692         4  3.672727\n",
              "4     877      56         5  3.672727"
            ]
          },
          "metadata": {
            "tags": []
          },
          "execution_count": 128
        }
      ]
    },
    {
      "cell_type": "markdown",
      "metadata": {
        "id": "L97mxEdrAvT0",
        "colab_type": "text"
      },
      "source": [
        "### Evaluate with RMSE"
      ]
    },
    {
      "cell_type": "code",
      "metadata": {
        "id": "Vy8uJATRAtxF",
        "colab_type": "code",
        "colab": {}
      },
      "source": [
        "baseline_test = baseline_data[['userID', 'itemID', 'rating_x']]\n",
        "baseline_predictions = baseline_data[['userID', 'itemID', 'rating_y']]"
      ],
      "execution_count": 0,
      "outputs": []
    },
    {
      "cell_type": "code",
      "metadata": {
        "id": "7cOUjFQVBHEB",
        "colab_type": "code",
        "colab": {}
      },
      "source": [
        "baseline_test.columns = ['userID', 'itemID', 'rating']\n",
        "baseline_predictions.columns = ['userID', 'itemID', 'rating']"
      ],
      "execution_count": 0,
      "outputs": []
    },
    {
      "cell_type": "code",
      "metadata": {
        "id": "6gJV5xJcBdR4",
        "colab_type": "code",
        "colab": {}
      },
      "source": [
        "cols = {\n",
        "    \"col_user\" : 'userID',\n",
        "    \"col_item\" : \"itemID\",\n",
        "    \"col_prediction\" : \"rating\"\n",
        "}"
      ],
      "execution_count": 0,
      "outputs": []
    },
    {
      "cell_type": "code",
      "metadata": {
        "id": "QptKFH9TBPJS",
        "colab_type": "code",
        "colab": {
          "base_uri": "https://localhost:8080/",
          "height": 35
        },
        "outputId": "56835656-2e14-432f-9f61-360d49525477"
      },
      "source": [
        "eval_rmse = rmse(baseline_test, baseline_predictions, **cols)\n",
        "print(eval_rmse)\n",
        "errors = {}\n",
        "errors['baseline'] = eval_rmse"
      ],
      "execution_count": 132,
      "outputs": [
        {
          "output_type": "stream",
          "text": [
            "1.046143073881678\n"
          ],
          "name": "stdout"
        }
      ]
    },
    {
      "cell_type": "markdown",
      "metadata": {
        "id": "WjXMt0jzBybs",
        "colab_type": "text"
      },
      "source": [
        "### Scikit learn "
      ]
    },
    {
      "cell_type": "markdown",
      "metadata": {
        "id": "kfNnQMaK8tX4",
        "colab_type": "text"
      },
      "source": [
        "## 2.SVD\n",
        "\n",
        ": for the matrix factorization model, I used Surprise library's SVD algorithm."
      ]
    },
    {
      "cell_type": "code",
      "metadata": {
        "id": "WoLdIh0Z-D6z",
        "colab_type": "code",
        "colab": {
          "base_uri": "https://localhost:8080/",
          "height": 35
        },
        "outputId": "d905880f-b293-469b-d0ae-e99bec28b80f"
      },
      "source": [
        "train_set = surprise.Dataset.load_from_df(data_train, reader=surprise.Reader('ml-100k')).build_full_trainset()\n",
        "train_set"
      ],
      "execution_count": 133,
      "outputs": [
        {
          "output_type": "execute_result",
          "data": {
            "text/plain": [
              "<surprise.trainset.Trainset at 0x7fb6f017e710>"
            ]
          },
          "metadata": {
            "tags": []
          },
          "execution_count": 133
        }
      ]
    },
    {
      "cell_type": "code",
      "metadata": {
        "id": "wEtx5QL22Xsd",
        "colab_type": "code",
        "colab": {
          "base_uri": "https://localhost:8080/",
          "height": 553
        },
        "outputId": "38752547-68dc-4b0c-d6bb-171545b6e588"
      },
      "source": [
        "svd = surprise.SVD(random_state=0, n_factors=200, n_epochs=30, verbose=True)\n",
        "\n",
        "svd.fit(train_set)"
      ],
      "execution_count": 134,
      "outputs": [
        {
          "output_type": "stream",
          "text": [
            "Processing epoch 0\n",
            "Processing epoch 1\n",
            "Processing epoch 2\n",
            "Processing epoch 3\n",
            "Processing epoch 4\n",
            "Processing epoch 5\n",
            "Processing epoch 6\n",
            "Processing epoch 7\n",
            "Processing epoch 8\n",
            "Processing epoch 9\n",
            "Processing epoch 10\n",
            "Processing epoch 11\n",
            "Processing epoch 12\n",
            "Processing epoch 13\n",
            "Processing epoch 14\n",
            "Processing epoch 15\n",
            "Processing epoch 16\n",
            "Processing epoch 17\n",
            "Processing epoch 18\n",
            "Processing epoch 19\n",
            "Processing epoch 20\n",
            "Processing epoch 21\n",
            "Processing epoch 22\n",
            "Processing epoch 23\n",
            "Processing epoch 24\n",
            "Processing epoch 25\n",
            "Processing epoch 26\n",
            "Processing epoch 27\n",
            "Processing epoch 28\n",
            "Processing epoch 29\n"
          ],
          "name": "stdout"
        },
        {
          "output_type": "execute_result",
          "data": {
            "text/plain": [
              "<surprise.prediction_algorithms.matrix_factorization.SVD at 0x7fb6efd1eba8>"
            ]
          },
          "metadata": {
            "tags": []
          },
          "execution_count": 134
        }
      ]
    },
    {
      "cell_type": "code",
      "metadata": {
        "id": "zCK1xt8u9AKa",
        "colab_type": "code",
        "colab": {}
      },
      "source": [
        "svd_data = compute_rating_predictions(svd, data_test, usercol='userID', itemcol='itemID')\n",
        "svd_data.head()\n",
        "svd_data.columns = ['userID', 'itemID', 'rating']"
      ],
      "execution_count": 0,
      "outputs": []
    },
    {
      "cell_type": "code",
      "metadata": {
        "id": "RYr3i5J8_Hoi",
        "colab_type": "code",
        "colab": {
          "base_uri": "https://localhost:8080/",
          "height": 35
        },
        "outputId": "70eb505d-dd7f-4de4-8068-c13ee4ce22b5"
      },
      "source": [
        "eval_rmse = rmse(data_test, svd_data, **cols)\n",
        "print(eval_rmse)"
      ],
      "execution_count": 180,
      "outputs": [
        {
          "output_type": "stream",
          "text": [
            "0.9513392485318333\n"
          ],
          "name": "stdout"
        }
      ]
    },
    {
      "cell_type": "code",
      "metadata": {
        "id": "Yie8mNIQkZee",
        "colab_type": "code",
        "colab": {}
      },
      "source": [
        "errors['svd'] = eval_rmse"
      ],
      "execution_count": 0,
      "outputs": []
    },
    {
      "cell_type": "markdown",
      "metadata": {
        "id": "trj7npeJRinn",
        "colab_type": "text"
      },
      "source": [
        "## 3-1.Neural Collaborative Filtering (using Microsoft Recommender)"
      ]
    },
    {
      "cell_type": "code",
      "metadata": {
        "id": "yNpOcz2WSgC_",
        "colab_type": "code",
        "colab": {}
      },
      "source": [
        "# dataset class for NCF\n",
        "data = NCFDataset(train=data_train, test=data_test, seed=1)"
      ],
      "execution_count": 0,
      "outputs": []
    },
    {
      "cell_type": "code",
      "metadata": {
        "id": "R4HbG4LDRl92",
        "colab_type": "code",
        "colab": {}
      },
      "source": [
        "model = NCF (\n",
        "    n_users=data.n_users, \n",
        "    n_items=data.n_items,\n",
        "    model_type=\"NeuMF\",\n",
        "    n_factors=4,\n",
        "    layer_sizes=[8,8,4],\n",
        "    n_epochs=50,\n",
        "    batch_size=256,\n",
        "    learning_rate=1e-3,\n",
        "    verbose=10,\n",
        "    seed=1\n",
        ")"
      ],
      "execution_count": 0,
      "outputs": []
    },
    {
      "cell_type": "code",
      "metadata": {
        "id": "9x8mbFPNSSZF",
        "colab_type": "code",
        "colab": {}
      },
      "source": [
        "model.fit(data)"
      ],
      "execution_count": 0,
      "outputs": []
    },
    {
      "cell_type": "code",
      "metadata": {
        "id": "Ub5Rx6BUTy7k",
        "colab_type": "code",
        "colab": {}
      },
      "source": [
        "predictions = [[row.userID, row.itemID, model.predict(row.userID, row.itemID)]\n",
        "               for (_, row) in data_test.iterrows()]"
      ],
      "execution_count": 0,
      "outputs": []
    },
    {
      "cell_type": "code",
      "metadata": {
        "id": "HY4akYqbWGrd",
        "colab_type": "code",
        "colab": {
          "base_uri": "https://localhost:8080/",
          "height": 198
        },
        "outputId": "f34bd910-c736-4e63-f672-8d7f6fd073d7"
      },
      "source": [
        "predictions = pd.DataFrame(predictions, columns=['userID', 'itemID', 'rating'])\n",
        "predictions.head()"
      ],
      "execution_count": 150,
      "outputs": [
        {
          "output_type": "execute_result",
          "data": {
            "text/html": [
              "<div>\n",
              "<style scoped>\n",
              "    .dataframe tbody tr th:only-of-type {\n",
              "        vertical-align: middle;\n",
              "    }\n",
              "\n",
              "    .dataframe tbody tr th {\n",
              "        vertical-align: top;\n",
              "    }\n",
              "\n",
              "    .dataframe thead th {\n",
              "        text-align: right;\n",
              "    }\n",
              "</style>\n",
              "<table border=\"1\" class=\"dataframe\">\n",
              "  <thead>\n",
              "    <tr style=\"text-align: right;\">\n",
              "      <th></th>\n",
              "      <th>userID</th>\n",
              "      <th>itemID</th>\n",
              "      <th>rating</th>\n",
              "    </tr>\n",
              "  </thead>\n",
              "  <tbody>\n",
              "    <tr>\n",
              "      <th>0</th>\n",
              "      <td>877</td>\n",
              "      <td>381</td>\n",
              "      <td>0.533057</td>\n",
              "    </tr>\n",
              "    <tr>\n",
              "      <th>1</th>\n",
              "      <td>815</td>\n",
              "      <td>602</td>\n",
              "      <td>0.339252</td>\n",
              "    </tr>\n",
              "    <tr>\n",
              "      <th>2</th>\n",
              "      <td>94</td>\n",
              "      <td>431</td>\n",
              "      <td>0.788292</td>\n",
              "    </tr>\n",
              "    <tr>\n",
              "      <th>3</th>\n",
              "      <td>416</td>\n",
              "      <td>875</td>\n",
              "      <td>0.143191</td>\n",
              "    </tr>\n",
              "    <tr>\n",
              "      <th>4</th>\n",
              "      <td>500</td>\n",
              "      <td>182</td>\n",
              "      <td>0.298132</td>\n",
              "    </tr>\n",
              "  </tbody>\n",
              "</table>\n",
              "</div>"
            ],
            "text/plain": [
              "   userID  itemID    rating\n",
              "0     877     381  0.533057\n",
              "1     815     602  0.339252\n",
              "2      94     431  0.788292\n",
              "3     416     875  0.143191\n",
              "4     500     182  0.298132"
            ]
          },
          "metadata": {
            "tags": []
          },
          "execution_count": 150
        }
      ]
    },
    {
      "cell_type": "code",
      "metadata": {
        "id": "qSKgXtkNWS6i",
        "colab_type": "code",
        "colab": {
          "base_uri": "https://localhost:8080/",
          "height": 35
        },
        "outputId": "ca5858d9-8f8e-4308-aba4-7c5d22618881"
      },
      "source": [
        "eval_rmse = rmse(data_test, predictions, **cols)\n",
        "print(eval_rmse)"
      ],
      "execution_count": 151,
      "outputs": [
        {
          "output_type": "stream",
          "text": [
            "3.224251224188875\n"
          ],
          "name": "stdout"
        }
      ]
    },
    {
      "cell_type": "code",
      "metadata": {
        "id": "XcLcBPnjWql3",
        "colab_type": "code",
        "colab": {}
      },
      "source": [
        "model_2 = NCF (\n",
        "    n_users=data.n_users, \n",
        "    n_items=data.n_items,\n",
        "    model_type=\"NeuMF\",\n",
        "    n_factors=8,\n",
        "    layer_sizes= [64,32,16,8],\n",
        "    n_epochs=20,\n",
        "    batch_size=256,\n",
        "    learning_rate=1e-3,\n",
        "    verbose=10,\n",
        "    seed=1\n",
        ")"
      ],
      "execution_count": 0,
      "outputs": []
    },
    {
      "cell_type": "code",
      "metadata": {
        "id": "D1VpdMnbadoW",
        "colab_type": "code",
        "colab": {}
      },
      "source": [
        "model_2.fit(data)"
      ],
      "execution_count": 0,
      "outputs": []
    },
    {
      "cell_type": "code",
      "metadata": {
        "id": "HWAHPQnOaii0",
        "colab_type": "code",
        "colab": {}
      },
      "source": [
        "predictions = [[row.userID, row.itemID, model_2.predict(row.userID, row.itemID)]\n",
        "               for (_, row) in data_test.iterrows()]"
      ],
      "execution_count": 0,
      "outputs": []
    },
    {
      "cell_type": "code",
      "metadata": {
        "id": "2-FCn1DqbCr2",
        "colab_type": "code",
        "colab": {
          "base_uri": "https://localhost:8080/",
          "height": 198
        },
        "outputId": "db7b6a42-a808-4bc6-d723-40576dba67ad"
      },
      "source": [
        "predictions = pd.DataFrame(predictions, columns=['userID', 'itemID', 'rating'])\n",
        "predictions.head()"
      ],
      "execution_count": 156,
      "outputs": [
        {
          "output_type": "execute_result",
          "data": {
            "text/html": [
              "<div>\n",
              "<style scoped>\n",
              "    .dataframe tbody tr th:only-of-type {\n",
              "        vertical-align: middle;\n",
              "    }\n",
              "\n",
              "    .dataframe tbody tr th {\n",
              "        vertical-align: top;\n",
              "    }\n",
              "\n",
              "    .dataframe thead th {\n",
              "        text-align: right;\n",
              "    }\n",
              "</style>\n",
              "<table border=\"1\" class=\"dataframe\">\n",
              "  <thead>\n",
              "    <tr style=\"text-align: right;\">\n",
              "      <th></th>\n",
              "      <th>userID</th>\n",
              "      <th>itemID</th>\n",
              "      <th>rating</th>\n",
              "    </tr>\n",
              "  </thead>\n",
              "  <tbody>\n",
              "    <tr>\n",
              "      <th>0</th>\n",
              "      <td>877</td>\n",
              "      <td>381</td>\n",
              "      <td>0.826964</td>\n",
              "    </tr>\n",
              "    <tr>\n",
              "      <th>1</th>\n",
              "      <td>815</td>\n",
              "      <td>602</td>\n",
              "      <td>0.521168</td>\n",
              "    </tr>\n",
              "    <tr>\n",
              "      <th>2</th>\n",
              "      <td>94</td>\n",
              "      <td>431</td>\n",
              "      <td>0.854729</td>\n",
              "    </tr>\n",
              "    <tr>\n",
              "      <th>3</th>\n",
              "      <td>416</td>\n",
              "      <td>875</td>\n",
              "      <td>0.751871</td>\n",
              "    </tr>\n",
              "    <tr>\n",
              "      <th>4</th>\n",
              "      <td>500</td>\n",
              "      <td>182</td>\n",
              "      <td>0.235201</td>\n",
              "    </tr>\n",
              "  </tbody>\n",
              "</table>\n",
              "</div>"
            ],
            "text/plain": [
              "   userID  itemID    rating\n",
              "0     877     381  0.826964\n",
              "1     815     602  0.521168\n",
              "2      94     431  0.854729\n",
              "3     416     875  0.751871\n",
              "4     500     182  0.235201"
            ]
          },
          "metadata": {
            "tags": []
          },
          "execution_count": 156
        }
      ]
    },
    {
      "cell_type": "code",
      "metadata": {
        "id": "epPwE-y_bPbh",
        "colab_type": "code",
        "colab": {
          "base_uri": "https://localhost:8080/",
          "height": 35
        },
        "outputId": "3997c9c5-aab2-4920-b180-195f6d7cd299"
      },
      "source": [
        "eval_rmse = rmse(data_test, predictions, **cols)\n",
        "print(eval_rmse)"
      ],
      "execution_count": 157,
      "outputs": [
        {
          "output_type": "stream",
          "text": [
            "3.2353893268186016\n"
          ],
          "name": "stdout"
        }
      ]
    },
    {
      "cell_type": "markdown",
      "metadata": {
        "id": "LQhpBDEhbx_F",
        "colab_type": "text"
      },
      "source": [
        "# 3-2. Neural Collaborative Filtering (using Keras)\n",
        "\n",
        "Neural Net Structure referred to https://nipunbatra.github.io/blog/2017/neural-collaborative-filtering.html"
      ]
    },
    {
      "cell_type": "code",
      "metadata": {
        "id": "1k017BpudKvy",
        "colab_type": "code",
        "colab": {}
      },
      "source": [
        "data = pd.read_csv(filepath, sep=\"\\t\", names=[COL_USER, COL_ITEM, COL_RATING, COL_TIMESTAMP])\n",
        "data = data.drop(columns = ['Timestamp'])"
      ],
      "execution_count": 0,
      "outputs": []
    },
    {
      "cell_type": "code",
      "metadata": {
        "id": "5O_hjJajbTl8",
        "colab_type": "code",
        "colab": {
          "base_uri": "https://localhost:8080/",
          "height": 72
        },
        "outputId": "1207fa15-075a-4aeb-89e3-775a89a94c47"
      },
      "source": [
        "import keras\n",
        "from keras.layers import concatenate\n",
        "\n",
        "n_latent_factors_user = 8\n",
        "n_latent_factors_movie = 10\n",
        "n_latent_factors_mf = 3\n",
        "n_users, n_movies = len(data.userID.unique()), len(data.itemID.unique())\n",
        "\n",
        "movie_input = keras.layers.Input(shape=[1],name='Item')\n",
        "movie_embedding_mlp = keras.layers.Embedding(n_movies + 1, n_latent_factors_movie, name='Movie-Embedding-MLP')(movie_input)\n",
        "movie_vec_mlp = keras.layers.Flatten(name='FlattenMovies-MLP')(movie_embedding_mlp)\n",
        "movie_vec_mlp = keras.layers.Dropout(0.2)(movie_vec_mlp)\n",
        "\n",
        "movie_embedding_mf = keras.layers.Embedding(n_movies + 1, n_latent_factors_mf, name='Movie-Embedding-MF')(movie_input)\n",
        "movie_vec_mf = keras.layers.Flatten(name='FlattenMovies-MF')(movie_embedding_mf)\n",
        "movie_vec_mf = keras.layers.Dropout(0.2)(movie_vec_mf)\n",
        "\n",
        "\n",
        "user_input = keras.layers.Input(shape=[1],name='User')\n",
        "user_vec_mlp = keras.layers.Flatten(name='FlattenUsers-MLP')(keras.layers.Embedding(n_users + 1, n_latent_factors_user,name='User-Embedding-MLP')(user_input))\n",
        "user_vec_mlp = keras.layers.Dropout(0.2)(user_vec_mlp)\n",
        "\n",
        "user_vec_mf = keras.layers.Flatten(name='FlattenUsers-MF')(keras.layers.Embedding(n_users + 1, n_latent_factors_mf,name='User-Embedding-MF')(user_input))\n",
        "user_vec_mf = keras.layers.Dropout(0.2)(user_vec_mf)\n",
        "\n",
        "\n",
        "concat = keras.layers.concatenate([movie_vec_mlp, user_vec_mlp], axis = 1)\n",
        "concat_dropout = keras.layers.Dropout(0.2)(concat)\n",
        "dense = keras.layers.Dense(200,name='FullyConnected')(concat_dropout)\n",
        "dense_batch = keras.layers.BatchNormalization(name='Batch')(dense)\n",
        "dropout_1 = keras.layers.Dropout(0.2,name='Dropout-1')(dense_batch)\n",
        "dense_2 = keras.layers.Dense(100,name='FullyConnected-1')(dropout_1)\n",
        "dense_batch_2 = keras.layers.BatchNormalization(name='Batch-2')(dense_2)\n",
        "\n",
        "\n",
        "dropout_2 = keras.layers.Dropout(0.2,name='Dropout-2')(dense_batch_2)\n",
        "dense_3 = keras.layers.Dense(50,name='FullyConnected-2')(dropout_2)\n",
        "dense_4 = keras.layers.Dense(20,name='FullyConnected-3', activation='relu')(dense_3)\n",
        "\n",
        "pred_mf = keras.layers.concatenate([movie_vec_mf, user_vec_mf], axis = 1)\n",
        "\n",
        "\n",
        "pred_mlp = keras.layers.Dense(1, activation='relu',name='Activation')(dense_4)\n",
        "\n",
        "combine_mlp_mf = keras.layers.concatenate([pred_mf, pred_mlp], axis = 1)\n",
        "result_combine = keras.layers.Dense(100,name='Combine-MF-MLP')(combine_mlp_mf)\n",
        "deep_combine = keras.layers.Dense(100,name='FullyConnected-4')(result_combine)\n",
        "\n",
        "\n",
        "result = keras.layers.Dense(1,name='Prediction')(deep_combine)\n",
        "\n",
        "\n",
        "model_keras = keras.Model([user_input, movie_input], result)\n",
        "opt = keras.optimizers.Adam(lr =0.01)\n",
        "model_keras.compile(optimizer='adam',loss= 'mean_absolute_error')"
      ],
      "execution_count": 172,
      "outputs": [
        {
          "output_type": "stream",
          "text": [
            "WARNING:tensorflow:From /usr/local/lib/python3.6/dist-packages/keras/optimizers.py:793: The name tf.train.Optimizer is deprecated. Please use tf.compat.v1.train.Optimizer instead.\n",
            "\n"
          ],
          "name": "stdout"
        }
      ]
    },
    {
      "cell_type": "code",
      "metadata": {
        "id": "Ptuxakp-c5ma",
        "colab_type": "code",
        "colab": {
          "base_uri": "https://localhost:8080/",
          "height": 1000
        },
        "outputId": "4f13c424-5ad2-4423-8a72-ecc2d5646a45"
      },
      "source": [
        "model_keras.summary()"
      ],
      "execution_count": 173,
      "outputs": [
        {
          "output_type": "stream",
          "text": [
            "Model: \"model_1\"\n",
            "__________________________________________________________________________________________________\n",
            "Layer (type)                    Output Shape         Param #     Connected to                     \n",
            "==================================================================================================\n",
            "Item (InputLayer)               (None, 1)            0                                            \n",
            "__________________________________________________________________________________________________\n",
            "User (InputLayer)               (None, 1)            0                                            \n",
            "__________________________________________________________________________________________________\n",
            "Movie-Embedding-MLP (Embedding) (None, 1, 10)        16830       Item[0][0]                       \n",
            "__________________________________________________________________________________________________\n",
            "User-Embedding-MLP (Embedding)  (None, 1, 8)         7552        User[0][0]                       \n",
            "__________________________________________________________________________________________________\n",
            "FlattenMovies-MLP (Flatten)     (None, 10)           0           Movie-Embedding-MLP[0][0]        \n",
            "__________________________________________________________________________________________________\n",
            "FlattenUsers-MLP (Flatten)      (None, 8)            0           User-Embedding-MLP[0][0]         \n",
            "__________________________________________________________________________________________________\n",
            "dropout_45 (Dropout)            (None, 10)           0           FlattenMovies-MLP[0][0]          \n",
            "__________________________________________________________________________________________________\n",
            "dropout_47 (Dropout)            (None, 8)            0           FlattenUsers-MLP[0][0]           \n",
            "__________________________________________________________________________________________________\n",
            "concatenate_8 (Concatenate)     (None, 18)           0           dropout_45[0][0]                 \n",
            "                                                                 dropout_47[0][0]                 \n",
            "__________________________________________________________________________________________________\n",
            "dropout_49 (Dropout)            (None, 18)           0           concatenate_8[0][0]              \n",
            "__________________________________________________________________________________________________\n",
            "FullyConnected (Dense)          (None, 200)          3800        dropout_49[0][0]                 \n",
            "__________________________________________________________________________________________________\n",
            "Batch (BatchNormalization)      (None, 200)          800         FullyConnected[0][0]             \n",
            "__________________________________________________________________________________________________\n",
            "Dropout-1 (Dropout)             (None, 200)          0           Batch[0][0]                      \n",
            "__________________________________________________________________________________________________\n",
            "FullyConnected-1 (Dense)        (None, 100)          20100       Dropout-1[0][0]                  \n",
            "__________________________________________________________________________________________________\n",
            "Batch-2 (BatchNormalization)    (None, 100)          400         FullyConnected-1[0][0]           \n",
            "__________________________________________________________________________________________________\n",
            "Movie-Embedding-MF (Embedding)  (None, 1, 3)         5049        Item[0][0]                       \n",
            "__________________________________________________________________________________________________\n",
            "User-Embedding-MF (Embedding)   (None, 1, 3)         2832        User[0][0]                       \n",
            "__________________________________________________________________________________________________\n",
            "Dropout-2 (Dropout)             (None, 100)          0           Batch-2[0][0]                    \n",
            "__________________________________________________________________________________________________\n",
            "FlattenMovies-MF (Flatten)      (None, 3)            0           Movie-Embedding-MF[0][0]         \n",
            "__________________________________________________________________________________________________\n",
            "FlattenUsers-MF (Flatten)       (None, 3)            0           User-Embedding-MF[0][0]          \n",
            "__________________________________________________________________________________________________\n",
            "FullyConnected-2 (Dense)        (None, 50)           5050        Dropout-2[0][0]                  \n",
            "__________________________________________________________________________________________________\n",
            "dropout_46 (Dropout)            (None, 3)            0           FlattenMovies-MF[0][0]           \n",
            "__________________________________________________________________________________________________\n",
            "dropout_48 (Dropout)            (None, 3)            0           FlattenUsers-MF[0][0]            \n",
            "__________________________________________________________________________________________________\n",
            "FullyConnected-3 (Dense)        (None, 20)           1020        FullyConnected-2[0][0]           \n",
            "__________________________________________________________________________________________________\n",
            "concatenate_9 (Concatenate)     (None, 6)            0           dropout_46[0][0]                 \n",
            "                                                                 dropout_48[0][0]                 \n",
            "__________________________________________________________________________________________________\n",
            "Activation (Dense)              (None, 1)            21          FullyConnected-3[0][0]           \n",
            "__________________________________________________________________________________________________\n",
            "concatenate_10 (Concatenate)    (None, 7)            0           concatenate_9[0][0]              \n",
            "                                                                 Activation[0][0]                 \n",
            "__________________________________________________________________________________________________\n",
            "Combine-MF-MLP (Dense)          (None, 100)          800         concatenate_10[0][0]             \n",
            "__________________________________________________________________________________________________\n",
            "FullyConnected-4 (Dense)        (None, 100)          10100       Combine-MF-MLP[0][0]             \n",
            "__________________________________________________________________________________________________\n",
            "Prediction (Dense)              (None, 1)            101         FullyConnected-4[0][0]           \n",
            "==================================================================================================\n",
            "Total params: 74,455\n",
            "Trainable params: 73,855\n",
            "Non-trainable params: 600\n",
            "__________________________________________________________________________________________________\n"
          ],
          "name": "stdout"
        }
      ]
    },
    {
      "cell_type": "code",
      "metadata": {
        "id": "NSap9g29c_Fp",
        "colab_type": "code",
        "colab": {}
      },
      "source": [
        "history = model_keras.fit([data_train.userID, data_train.itemID], data_train.rating, epochs=25, verbose=0, validation_split=0.1)"
      ],
      "execution_count": 0,
      "outputs": []
    },
    {
      "cell_type": "code",
      "metadata": {
        "id": "Fbk5bJrJiE6o",
        "colab_type": "code",
        "colab": {
          "base_uri": "https://localhost:8080/",
          "height": 35
        },
        "outputId": "1ef555d2-6b16-4253-e5f0-2f380c270111"
      },
      "source": [
        "from sklearn.metrics import mean_squared_error\n",
        "y_hat_2 = np.round(model_keras.predict([data_test.userID, data_test.itemID]),0)\n",
        "ncf_error = mean_squared_error(data_test.rating, y_hat_2)\n",
        "print(ncf_error)"
      ],
      "execution_count": 182,
      "outputs": [
        {
          "output_type": "stream",
          "text": [
            "1.0136\n"
          ],
          "name": "stdout"
        }
      ]
    },
    {
      "cell_type": "code",
      "metadata": {
        "id": "4Fb1lZ_fjexx",
        "colab_type": "code",
        "colab": {}
      },
      "source": [
        "errors['NCF'] = ncf_error"
      ],
      "execution_count": 0,
      "outputs": []
    },
    {
      "cell_type": "code",
      "metadata": {
        "id": "rnQoeCBskk5R",
        "colab_type": "code",
        "colab": {
          "base_uri": "https://localhost:8080/",
          "height": 35
        },
        "outputId": "3e933462-098f-4059-96c5-4b60680b7562"
      },
      "source": [
        "errors"
      ],
      "execution_count": 184,
      "outputs": [
        {
          "output_type": "execute_result",
          "data": {
            "text/plain": [
              "{'NCF': 1.0136, 'baseline': 1.046143073881678, 'svd': 0.9513392485318333}"
            ]
          },
          "metadata": {
            "tags": []
          },
          "execution_count": 184
        }
      ]
    },
    {
      "cell_type": "code",
      "metadata": {
        "id": "wHGFqj37kl2a",
        "colab_type": "code",
        "colab": {}
      },
      "source": [
        ""
      ],
      "execution_count": 0,
      "outputs": []
    }
  ]
}